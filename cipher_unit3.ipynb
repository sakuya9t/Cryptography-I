{
 "cells": [
  {
   "cell_type": "code",
   "execution_count": 1,
   "metadata": {},
   "outputs": [],
   "source": [
    "from Crypto.Hash import SHA256\n",
    "import math\n",
    "\n",
    "file1 = './week3/6.1.intro.mp4_download'\n",
    "file2 = './week3/6.2.birthday.mp4_download'"
   ]
  },
  {
   "cell_type": "code",
   "execution_count": 2,
   "metadata": {},
   "outputs": [],
   "source": [
    "def do_sha256(block): \n",
    "    sha = SHA256.new(block)\n",
    "    return sha.digest()\n",
    "\n",
    "def read_file(filename):  \n",
    "    return open(filename, \"rb\").read()\n",
    "\n",
    "def to_blocks(content, block_size=1024):\n",
    "    return [content[i * block_size : min((i+1) * block_size, len(content))] for i in range(math.ceil(len(content) / block_size))]\n",
    "\n",
    "def compute(content):\n",
    "    blocks = to_blocks(content)\n",
    "    h = b''\n",
    "    for block in blocks[::-1]:\n",
    "        h = do_sha256(b''.join([block, h]))\n",
    "    return h.hex()"
   ]
  },
  {
   "cell_type": "code",
   "execution_count": 3,
   "metadata": {},
   "outputs": [],
   "source": [
    "content1 = read_file(file1)\n",
    "content2 = read_file(file2)"
   ]
  },
  {
   "cell_type": "code",
   "execution_count": 4,
   "metadata": {},
   "outputs": [
    {
     "data": {
      "text/plain": [
       "'5b96aece304a1422224f9a41b228416028f9ba26b0d1058f400200f06a589949'"
      ]
     },
     "execution_count": 4,
     "metadata": {},
     "output_type": "execute_result"
    }
   ],
   "source": [
    "compute(content1)"
   ]
  },
  {
   "cell_type": "code",
   "execution_count": 5,
   "metadata": {},
   "outputs": [
    {
     "data": {
      "text/plain": [
       "'03c08f4ee0b576fe319338139c045c89c3e8e9409633bea29442e21425006ea8'"
      ]
     },
     "execution_count": 5,
     "metadata": {},
     "output_type": "execute_result"
    }
   ],
   "source": [
    "compute(content2)"
   ]
  },
  {
   "cell_type": "code",
   "execution_count": null,
   "metadata": {},
   "outputs": [],
   "source": []
  }
 ],
 "metadata": {
  "kernelspec": {
   "display_name": "Python 3",
   "language": "python",
   "name": "python3"
  },
  "language_info": {
   "codemirror_mode": {
    "name": "ipython",
    "version": 3
   },
   "file_extension": ".py",
   "mimetype": "text/x-python",
   "name": "python",
   "nbconvert_exporter": "python",
   "pygments_lexer": "ipython3",
   "version": "3.8.2"
  }
 },
 "nbformat": 4,
 "nbformat_minor": 4
}
