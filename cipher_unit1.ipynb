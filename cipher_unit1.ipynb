{
 "cells": [
  {
   "cell_type": "code",
   "execution_count": 1,
   "metadata": {},
   "outputs": [],
   "source": [
    "CIPHER_TEXT = ['315c4eeaa8b5f8aaf9174145bf43e1784b8fa00dc71d885a804e5ee9fa40b16349c146fb778cdf2d3aff021dfff5b403b510d0d0455468aeb98622b137dae857553ccd8883a7bc37520e06e515d22c954eba5025b8cc57ee59418ce7dc6bc41556bdb36bbca3e8774301fbcaa3b83b220809560987815f65286764703de0f3d524400a19b159610b11ef3e',\n",
    "               '234c02ecbbfbafa3ed18510abd11fa724fcda2018a1a8342cf064bbde548b12b07df44ba7191d9606ef4081ffde5ad46a5069d9f7f543bedb9c861bf29c7e205132eda9382b0bc2c5c4b45f919cf3a9f1cb74151f6d551f4480c82b2cb24cc5b028aa76eb7b4ab24171ab3cdadb8356f',\n",
    "               '32510ba9a7b2bba9b8005d43a304b5714cc0bb0c8a34884dd91304b8ad40b62b07df44ba6e9d8a2368e51d04e0e7b207b70b9b8261112bacb6c866a232dfe257527dc29398f5f3251a0d47e503c66e935de81230b59b7afb5f41afa8d661cb',\n",
    "               '32510ba9aab2a8a4fd06414fb517b5605cc0aa0dc91a8908c2064ba8ad5ea06a029056f47a8ad3306ef5021eafe1ac01a81197847a5c68a1b78769a37bc8f4575432c198ccb4ef63590256e305cd3a9544ee4160ead45aef520489e7da7d835402bca670bda8eb775200b8dabbba246b130f040d8ec6447e2c767f3d30ed81ea2e4c1404e1315a1010e7229be6636aaa',\n",
    "               '3f561ba9adb4b6ebec54424ba317b564418fac0dd35f8c08d31a1fe9e24fe56808c213f17c81d9607cee021dafe1e001b21ade877a5e68bea88d61b93ac5ee0d562e8e9582f5ef375f0a4ae20ed86e935de81230b59b73fb4302cd95d770c65b40aaa065f2a5e33a5a0bb5dcaba43722130f042f8ec85b7c2070',\n",
    "               '32510bfbacfbb9befd54415da243e1695ecabd58c519cd4bd2061bbde24eb76a19d84aba34d8de287be84d07e7e9a30ee714979c7e1123a8bd9822a33ecaf512472e8e8f8db3f9635c1949e640c621854eba0d79eccf52ff111284b4cc61d11902aebc66f2b2e436434eacc0aba938220b084800c2ca4e693522643573b2c4ce35050b0cf774201f0fe52ac9f26d71b6cf61a711cc229f77ace7aa88a2f19983122b11be87a59c355d25f8e4',\n",
    "               '32510bfbacfbb9befd54415da243e1695ecabd58c519cd4bd90f1fa6ea5ba47b01c909ba7696cf606ef40c04afe1ac0aa8148dd066592ded9f8774b529c7ea125d298e8883f5e9305f4b44f915cb2bd05af51373fd9b4af511039fa2d96f83414aaaf261bda2e97b170fb5cce2a53e675c154c0d9681596934777e2275b381ce2e40582afe67650b13e72287ff2270abcf73bb028932836fbdecfecee0a3b894473c1bbeb6b4913a536ce4f9b13f1efff71ea313c8661dd9a4ce',\n",
    "               '315c4eeaa8b5f8bffd11155ea506b56041c6a00c8a08854dd21a4bbde54ce56801d943ba708b8a3574f40c00fff9e00fa1439fd0654327a3bfc860b92f89ee04132ecb9298f5fd2d5e4b45e40ecc3b9d59e9417df7c95bba410e9aa2ca24c5474da2f276baa3ac325918b2daada43d6712150441c2e04f6565517f317da9d3',\n",
    "               '271946f9bbb2aeadec111841a81abc300ecaa01bd8069d5cc91005e9fe4aad6e04d513e96d99de2569bc5e50eeeca709b50a8a987f4264edb6896fb537d0a716132ddc938fb0f836480e06ed0fcd6e9759f40462f9cf57f4564186a2c1778f1543efa270bda5e933421cbe88a4a52222190f471e9bd15f652b653b7071aec59a2705081ffe72651d08f822c9ed6d76e48b63ab15d0208573a7eef027',\n",
    "               '466d06ece998b7a2fb1d464fed2ced7641ddaa3cc31c9941cf110abbf409ed39598005b3399ccfafb61d0315fca0a314be138a9f32503bedac8067f03adbf3575c3b8edc9ba7f537530541ab0f9f3cd04ff50d66f1d559ba520e89a2cb2a83',\n",
    "               '32510ba9babebbbefd001547a810e67149caee11d945cd7fc81a05e9f85aac650e9052ba6a8cd8257bf14d13e6f0a803b54fde9e77472dbff89d71b57bddef121336cb85ccb8f3315f4b52e301d16e9f52f904']"
   ]
  },
  {
   "cell_type": "code",
   "execution_count": 2,
   "metadata": {},
   "outputs": [],
   "source": [
    "def hex_str_to_int_arr(s):\n",
    "    res = []\n",
    "    i = 0\n",
    "    while i < len(s):\n",
    "        res.append(int(s[i:i + 2], 16))\n",
    "        i += 2\n",
    "    return res\n",
    "\n",
    "\n",
    "def xor(x_list, y_list):\n",
    "    res = []\n",
    "    for i in range(0, min(len(x_list), len(y_list))):\n",
    "        res.append(x_list[i] ^ y_list[i])\n",
    "    return res\n",
    "\n",
    "def init_arr(length):\n",
    "    return [0x5f] * length\n",
    "\n",
    "def legal_char(v):\n",
    "    return (v >= 0x20 and v <= 0x3a) or (v >= 0x41 and v <= 0x5a) or (v >= 0x61 and v <= 0x7a)\n",
    "\n",
    "def normal_char_cnt(arr):\n",
    "    return len([v for v in arr if (v >= 0x41 and v <= 0x5a) or (v >= 0x61 and v <= 0x7a) or v == 0x20])\n",
    "\n",
    "def intersect(lists):\n",
    "    res = lists[0]\n",
    "    for i in range(1, len(lists)):\n",
    "        res = [x for x in res if x in lists[i]]\n",
    "    return res\n",
    "\n",
    "def union(lists):\n",
    "    res = set()\n",
    "    for l in lists:\n",
    "        res.update(l)\n",
    "    return sorted(list(res))"
   ]
  },
  {
   "cell_type": "code",
   "execution_count": 3,
   "metadata": {},
   "outputs": [],
   "source": [
    "def verify(col):\n",
    "    return normal_char_cnt(col) > 9 and len([legal_char(x) for x in col]) > 9\n",
    "\n",
    "def check(k1, k2, index):\n",
    "    # check: check if text[k1][index] or text[k2][index] can be space\n",
    "    # check if text[k1][index] = ' ' or if text[k2][index] = ' '\n",
    "    a = 0x20\n",
    "    res = []\n",
    "    # assume text[k1][index] == ' '\n",
    "    col = [a ^ matrix[k1][i][index] for i in range(0, 11)]\n",
    "    k1_space = verify(col)\n",
    "    if k1_space:\n",
    "        res.append(k1)\n",
    "\n",
    "    # assume text[k2][index] == ' '\n",
    "    col = [a ^ matrix[k2][i][index] for i in range(0, 11)]\n",
    "    k2_space = verify(col)\n",
    "    if k2_space:\n",
    "        res.append(k2)\n",
    "    return res"
   ]
  },
  {
   "cell_type": "code",
   "execution_count": 4,
   "metadata": {},
   "outputs": [
    {
     "name": "stdout",
     "output_type": "stream",
     "text": [
      "[18, 16, 76, 6, 19, 78, 87, 9, 20, 15, 16, 79, 2, 82, 27, 10, 4, 66, 2, 12, 77, 7, 11, 24, 79, 72, 21, 84, 31, 8, 0, 72, 78, 30, 2, 65, 6, 29, 6, 77, 84, 11, 10, 2, 2, 16, 25, 69, 16, 22, 77, 79, 58, 0, 83, 67, 0, 78, 67, 14, 30, 29, 10, 82, 70, 18, 23, 27, 1, 23, 0, 27, 14, 69, 67, 28, 12, 29, 22, 10, 82, 13, 17]\n"
     ]
    }
   ],
   "source": [
    "min_length = min(len(s) for s in CIPHER_TEXT)\n",
    "ciphers = [hex_str_to_int_arr(s[0:min_length]) for s in CIPHER_TEXT]\n",
    "matrix = [[xor(x, y) for y in ciphers] for x in ciphers]\n",
    "print(matrix[0][1])"
   ]
  },
  {
   "cell_type": "code",
   "execution_count": 5,
   "metadata": {},
   "outputs": [],
   "source": [
    "filled = [init_arr(len(x)) for x in ciphers]"
   ]
  },
  {
   "cell_type": "code",
   "execution_count": 6,
   "metadata": {},
   "outputs": [
    {
     "data": {
      "text/plain": [
       "[83, 83, 83, 83, 83, 83, 83, 83, 83, 83, 83]"
      ]
     },
     "execution_count": 6,
     "metadata": {},
     "output_type": "execute_result"
    }
   ],
   "source": [
    "[len(c) for c in ciphers]"
   ]
  },
  {
   "cell_type": "code",
   "execution_count": 7,
   "metadata": {},
   "outputs": [],
   "source": [
    "def get_possible_spaces(text_id):\n",
    "    # get possible spaces in a given cipher text\n",
    "    k1 = text_id\n",
    "    res = []\n",
    "    for k2 in range(0, 11):\n",
    "        if k1 == k2:\n",
    "            continue\n",
    "        possible_space = [i for i in range(0, 83) if (matrix[k1][k2][i] >= 0x41 and matrix[k1][k2][i] <= 0x5A) or (matrix[k1][k2][i] >= 0x61 and matrix[k1][k2][i] <= 0x7A)]\n",
    "\n",
    "        possible_k1_space = list(range(0, 83))\n",
    "        for i in range(0, 11):\n",
    "            curr = [x for x in possible_space if k1 in check(k1, i, x)]\n",
    "            possible_k1_space = intersect([possible_k1_space, curr])\n",
    "        res = union([res, possible_k1_space])\n",
    "    return res"
   ]
  },
  {
   "cell_type": "code",
   "execution_count": 8,
   "metadata": {},
   "outputs": [],
   "source": [
    "poss = []\n",
    "for i in range(0, 11):\n",
    "    poss.append(get_possible_spaces(i))\n",
    "    for pos in poss[i]:\n",
    "        filled[i][pos] = 0x20\n",
    "filled[4][7] = 0x27\n",
    "filled[1][25] = 0x79\n",
    "poss[1].append(25)\n",
    "\n",
    "filled[1][34] = 0x77\n",
    "poss[1].append(34)"
   ]
  },
  {
   "cell_type": "code",
   "execution_count": 9,
   "metadata": {},
   "outputs": [],
   "source": [
    "def try_filling(index):\n",
    "    spaces = poss[index]\n",
    "    for i in range(0, 11):\n",
    "        for pos in spaces:\n",
    "            cand = matrix[index][i][pos] ^ filled[index][pos]\n",
    "            if legal_char(cand) and filled[i][pos] == 0x5f:\n",
    "                filled[i][pos] = cand"
   ]
  },
  {
   "cell_type": "code",
   "execution_count": 10,
   "metadata": {},
   "outputs": [],
   "source": [
    "for i in range(0, 11):\n",
    "    try_filling(i)"
   ]
  },
  {
   "cell_type": "code",
   "execution_count": 11,
   "metadata": {},
   "outputs": [
    {
     "name": "stdout",
     "output_type": "stream",
     "text": [
      "We can factor the number 15 with quantum computers. We can also factor the number 1\n",
      "Euler would probably enjoy that now his theorem becomes a corner stone of crypto - \n",
      "The nice thing about Keeyloq is now we cryptographers can drive a lot of fancy cars\n",
      "The ciphertext produced by a weak encryption algorithm looks as good as ciphertext \n",
      "You don't want to buy a set of car keys from a guy who specializes in stealing cars\n",
      "There are two types of cryptography - that which will keep secrets safe from your l\n",
      "There are two types of cyptography: one that allows the Government to use brute for\n",
      "We can see the point where the chip is unhappy if a wrong bit is sent and consumes \n",
      "A (private-key)  encryption scheme states 3 algorithms, namely a procedure for gene\n",
      " The Concise OxfordDictionary (2006) de___nes crypto as the art of  writing o r sol\n",
      "The secret message is: When using a stream cipher, never use the key more than once\n"
     ]
    }
   ],
   "source": [
    "for i in range(0, 11):\n",
    "    print(''.join([chr(x) for x in filled[i]]))"
   ]
  },
  {
   "cell_type": "code",
   "execution_count": null,
   "metadata": {},
   "outputs": [],
   "source": []
  }
 ],
 "metadata": {
  "kernelspec": {
   "display_name": "Python 3",
   "language": "python",
   "name": "python3"
  },
  "language_info": {
   "codemirror_mode": {
    "name": "ipython",
    "version": 3
   },
   "file_extension": ".py",
   "mimetype": "text/x-python",
   "name": "python",
   "nbconvert_exporter": "python",
   "pygments_lexer": "ipython3",
   "version": "3.7.6"
  }
 },
 "nbformat": 4,
 "nbformat_minor": 4
}
