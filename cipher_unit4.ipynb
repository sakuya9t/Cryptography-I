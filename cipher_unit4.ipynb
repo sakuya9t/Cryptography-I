{
 "cells": [
  {
   "cell_type": "code",
   "execution_count": 1,
   "metadata": {},
   "outputs": [],
   "source": [
    "from urllib import request, parse, error\n",
    "import sys\n",
    "\n",
    "TARGET = 'http://crypto-class.appspot.com/po?er='\n",
    "#--------------------------------------------------------------\n",
    "# padding oracle\n",
    "#--------------------------------------------------------------\n",
    "\n",
    "def query(q):\n",
    "    target = TARGET + parse.quote(q)    # Create query URL\n",
    "    try:\n",
    "        f = request.urlopen(target)          # Wait for response\n",
    "        return True\n",
    "    except error.HTTPError as e:          \n",
    "#         print(\"We got: {}\".format(e.code))       # Print response code\n",
    "        if e.code == 404:\n",
    "            return True # good padding\n",
    "        return False # bad padding\n"
   ]
  },
  {
   "cell_type": "code",
   "execution_count": 2,
   "metadata": {},
   "outputs": [
    {
     "data": {
      "text/plain": [
       "True"
      ]
     },
     "execution_count": 2,
     "metadata": {},
     "output_type": "execute_result"
    }
   ],
   "source": [
    "query('f20bdba6ff29eed7b046d1df9fb7000058b1ffb4210a580f748b4ac714c001bd4a61044426fb515dad3f21f18aa577c0bdf302936266926ff37dbf7035d5eeb4')"
   ]
  },
  {
   "cell_type": "code",
   "execution_count": 3,
   "metadata": {},
   "outputs": [
    {
     "data": {
      "text/plain": [
       "False"
      ]
     },
     "execution_count": 3,
     "metadata": {},
     "output_type": "execute_result"
    }
   ],
   "source": [
    "query('f20bdba6ff29eed7b046d1df9fb7000058b1ffb4210a580f748b4ac714c001bd')"
   ]
  },
  {
   "cell_type": "code",
   "execution_count": 4,
   "metadata": {},
   "outputs": [],
   "source": [
    "def xor(a, b):\n",
    "    return [a[i] ^ b[i] for i in range(len(a))]\n",
    "\n",
    "def str_hex(s):\n",
    "    return [b for b in bytes.fromhex(s)]\n",
    "\n",
    "def num_str(arr):\n",
    "    return ''.join('{:02x}'.format(b) for b in arr)"
   ]
  },
  {
   "cell_type": "code",
   "execution_count": 5,
   "metadata": {},
   "outputs": [],
   "source": [
    "def decrypt(pre, curr, after):\n",
    "    known = []\n",
    "    pad = 0x01\n",
    "\n",
    "    while pad <= 0x10:\n",
    "        guess = 0\n",
    "        pre_block = pre\n",
    "        curr_block = str_hex(curr)\n",
    "        after_block = after\n",
    "\n",
    "        guess_pre = num_str(curr_block[:-(len(known)+1)])\n",
    "        guess_post = '' if len(known) == 0 else curr_block[(-len(known)):]\n",
    "        guess_post = xor(guess_post, known)\n",
    "        guess_post = xor(guess_post, [pad] * len(known))\n",
    "        guess_post = num_str(guess_post)\n",
    "        curr_byte = curr_block[-(len(known)+1)]\n",
    "        candidate = -1\n",
    "        while guess <= 0xff:\n",
    "            guess_curr = curr_byte ^ guess ^ pad\n",
    "            guess_curr = num_str([guess_curr])\n",
    "            query_str = pre_block + guess_pre + guess_curr + guess_post + after_block\n",
    "            if query(query_str):\n",
    "                candidate = max(candidate, guess)\n",
    "                if candidate > 0x10:\n",
    "                    break\n",
    "            guess += 1\n",
    "        if candidate == -1:\n",
    "            raise Exception('Failed to hack the block')\n",
    "        known.insert(0, candidate)\n",
    "        pad += 1\n",
    "        print('Decrypted {} bytes: {}'.format(len(known), known))\n",
    "    return ''.join([chr(x) for x in known])"
   ]
  },
  {
   "cell_type": "code",
   "execution_count": 6,
   "metadata": {},
   "outputs": [],
   "source": [
    "cipher = 'f20bdba6ff29eed7b046d1df9fb7000058b1ffb4210a580f748b4ac714c001bd4a61044426fb515dad3f21f18aa577c0bdf302936266926ff37dbf7035d5eeb4'\n",
    "blocks = [''.join([cipher[i * 32 + j] for j in range(32)]) for i in range(len(cipher) // 32)]"
   ]
  },
  {
   "cell_type": "code",
   "execution_count": 7,
   "metadata": {},
   "outputs": [
    {
     "name": "stdout",
     "output_type": "stream",
     "text": [
      "Decrypted 1 bytes: [32]\n",
      "Decrypted 2 bytes: [115, 32]\n",
      "Decrypted 3 bytes: [100, 115, 32]\n",
      "Decrypted 4 bytes: [114, 100, 115, 32]\n",
      "Decrypted 5 bytes: [111, 114, 100, 115, 32]\n",
      "Decrypted 6 bytes: [87, 111, 114, 100, 115, 32]\n",
      "Decrypted 7 bytes: [32, 87, 111, 114, 100, 115, 32]\n",
      "Decrypted 8 bytes: [99, 32, 87, 111, 114, 100, 115, 32]\n",
      "Decrypted 9 bytes: [105, 99, 32, 87, 111, 114, 100, 115, 32]\n",
      "Decrypted 10 bytes: [103, 105, 99, 32, 87, 111, 114, 100, 115, 32]\n",
      "Decrypted 11 bytes: [97, 103, 105, 99, 32, 87, 111, 114, 100, 115, 32]\n",
      "Decrypted 12 bytes: [77, 97, 103, 105, 99, 32, 87, 111, 114, 100, 115, 32]\n",
      "Decrypted 13 bytes: [32, 77, 97, 103, 105, 99, 32, 87, 111, 114, 100, 115, 32]\n",
      "Decrypted 14 bytes: [101, 32, 77, 97, 103, 105, 99, 32, 87, 111, 114, 100, 115, 32]\n",
      "Decrypted 15 bytes: [104, 101, 32, 77, 97, 103, 105, 99, 32, 87, 111, 114, 100, 115, 32]\n",
      "Decrypted 16 bytes: [84, 104, 101, 32, 77, 97, 103, 105, 99, 32, 87, 111, 114, 100, 115, 32]\n",
      "Decrypted block 0: The Magic Words \n",
      "Decrypted 1 bytes: [115]\n",
      "Decrypted 2 bytes: [79, 115]\n",
      "Decrypted 3 bytes: [32, 79, 115]\n",
      "Decrypted 4 bytes: [104, 32, 79, 115]\n",
      "Decrypted 5 bytes: [115, 104, 32, 79, 115]\n",
      "Decrypted 6 bytes: [105, 115, 104, 32, 79, 115]\n",
      "Decrypted 7 bytes: [109, 105, 115, 104, 32, 79, 115]\n",
      "Decrypted 8 bytes: [97, 109, 105, 115, 104, 32, 79, 115]\n",
      "Decrypted 9 bytes: [101, 97, 109, 105, 115, 104, 32, 79, 115]\n",
      "Decrypted 10 bytes: [117, 101, 97, 109, 105, 115, 104, 32, 79, 115]\n",
      "Decrypted 11 bytes: [113, 117, 101, 97, 109, 105, 115, 104, 32, 79, 115]\n",
      "Decrypted 12 bytes: [83, 113, 117, 101, 97, 109, 105, 115, 104, 32, 79, 115]\n",
      "Decrypted 13 bytes: [32, 83, 113, 117, 101, 97, 109, 105, 115, 104, 32, 79, 115]\n",
      "Decrypted 14 bytes: [101, 32, 83, 113, 117, 101, 97, 109, 105, 115, 104, 32, 79, 115]\n",
      "Decrypted 15 bytes: [114, 101, 32, 83, 113, 117, 101, 97, 109, 105, 115, 104, 32, 79, 115]\n",
      "Decrypted 16 bytes: [97, 114, 101, 32, 83, 113, 117, 101, 97, 109, 105, 115, 104, 32, 79, 115]\n",
      "Decrypted block 1: are Squeamish Os\n",
      "Decrypted 1 bytes: [9]\n",
      "Decrypted 2 bytes: [9, 9]\n",
      "Decrypted 3 bytes: [9, 9, 9]\n",
      "Decrypted 4 bytes: [9, 9, 9, 9]\n",
      "Decrypted 5 bytes: [9, 9, 9, 9, 9]\n",
      "Decrypted 6 bytes: [9, 9, 9, 9, 9, 9]\n",
      "Decrypted 7 bytes: [9, 9, 9, 9, 9, 9, 9]\n",
      "Decrypted 8 bytes: [9, 9, 9, 9, 9, 9, 9, 9]\n",
      "Decrypted 9 bytes: [9, 9, 9, 9, 9, 9, 9, 9, 9]\n",
      "Decrypted 10 bytes: [101, 9, 9, 9, 9, 9, 9, 9, 9, 9]\n",
      "Decrypted 11 bytes: [103, 101, 9, 9, 9, 9, 9, 9, 9, 9, 9]\n",
      "Decrypted 12 bytes: [97, 103, 101, 9, 9, 9, 9, 9, 9, 9, 9, 9]\n",
      "Decrypted 13 bytes: [114, 97, 103, 101, 9, 9, 9, 9, 9, 9, 9, 9, 9]\n",
      "Decrypted 14 bytes: [102, 114, 97, 103, 101, 9, 9, 9, 9, 9, 9, 9, 9, 9]\n",
      "Decrypted 15 bytes: [105, 102, 114, 97, 103, 101, 9, 9, 9, 9, 9, 9, 9, 9, 9]\n",
      "Decrypted 16 bytes: [115, 105, 102, 114, 97, 103, 101, 9, 9, 9, 9, 9, 9, 9, 9, 9]\n",
      "Decrypted block 2: sifrage\t\t\t\t\t\t\t\t\t\n",
      "The Magic Words are Squeamish Ossifrage\t\t\t\t\t\t\t\t\t\n"
     ]
    }
   ],
   "source": [
    "res = ''\n",
    "for i in range(0, len(blocks)-1):\n",
    "    curr = decrypt(''.join(blocks[:i]), blocks[i], blocks[i+1] if i < len(blocks)-1 else '')\n",
    "    print('Decrypted block {}: {}'.format(i, curr))\n",
    "    res += curr\n",
    "print(res)"
   ]
  },
  {
   "cell_type": "code",
   "execution_count": 8,
   "metadata": {},
   "outputs": [
    {
     "data": {
      "text/plain": [
       "'The Magic Words are Squeamish Ossifrage\\t\\t\\t\\t\\t\\t\\t\\t\\t'"
      ]
     },
     "execution_count": 8,
     "metadata": {},
     "output_type": "execute_result"
    }
   ],
   "source": [
    "res"
   ]
  },
  {
   "cell_type": "code",
   "execution_count": null,
   "metadata": {},
   "outputs": [],
   "source": []
  }
 ],
 "metadata": {
  "kernelspec": {
   "display_name": "Python 3",
   "language": "python",
   "name": "python3"
  },
  "language_info": {
   "codemirror_mode": {
    "name": "ipython",
    "version": 3
   },
   "file_extension": ".py",
   "mimetype": "text/x-python",
   "name": "python",
   "nbconvert_exporter": "python",
   "pygments_lexer": "ipython3",
   "version": "3.6.9"
  }
 },
 "nbformat": 4,
 "nbformat_minor": 4
}
