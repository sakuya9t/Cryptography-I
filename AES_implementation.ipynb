{
 "cells": [
  {
   "cell_type": "code",
   "execution_count": 1,
   "metadata": {},
   "outputs": [
    {
     "name": "stdout",
     "output_type": "stream",
     "text": [
      "[[1, 5, 9, 13], [2, 6, 10, 14], [3, 7, 11, 15], [4, 8, 12, 16]]\n",
      "[1, 2, 3, 4, 5, 6, 7, 8, 9, 10, 11, 12, 13, 14, 15, 16]\n"
     ]
    }
   ],
   "source": [
    "from AESImplementation import matrix_to_columns, columns_to_matrix\n",
    "print(matrix_to_columns([1,2,3,4,5,6,7,8,9,10,11,12,13,14,15,16]))\n",
    "print(columns_to_matrix([[1, 5, 9, 13], [2, 6, 10, 14], [3, 7, 11, 15], [4, 8, 12, 16]]))"
   ]
  },
  {
   "cell_type": "code",
   "execution_count": 2,
   "metadata": {},
   "outputs": [
    {
     "data": {
      "text/plain": [
       "[[20, 11, 65, 178, 42, 41, 190, 180, 6, 27, 218, 102, 182, 116, 126, 20],\n",
       " [135, 249, 186, 253, 173, 208, 4, 73, 171, 203, 222, 47, 29, 191, 160, 59],\n",
       " [141, 27, 90, 91, 32, 203, 94, 18, 139, 0, 128, 61, 150, 191, 32, 6],\n",
       " [129, 168, 49, 207, 161, 99, 111, 221, 42, 99, 239, 224, 188, 220, 207, 230],\n",
       " [15, 42, 183, 162, 174, 73, 216, 127, 132, 42, 55, 159, 56, 246, 248, 121],\n",
       " [93, 123, 17, 181, 243, 50, 201, 202, 119, 24, 254, 85, 79, 238, 6, 44],\n",
       " [85, 52, 64, 17, 166, 6, 137, 219, 209, 30, 119, 142, 158, 240, 113, 162],\n",
       " [153, 215, 58, 90, 63, 209, 179, 129, 238, 207, 196, 15, 112, 63, 181, 173],\n",
       " [108, 130, 47, 139, 83, 83, 156, 10, 189, 156, 88, 5, 205, 163, 237, 168],\n",
       " [125, 204, 246, 45, 46, 159, 106, 39, 147, 3, 50, 34, 94, 160, 223, 138],\n",
       " [171, 100, 190, 67, 133, 251, 212, 100, 22, 248, 230, 70, 72, 88, 57, 204]]"
      ]
     },
     "execution_count": 2,
     "metadata": {},
     "output_type": "execute_result"
    }
   ],
   "source": [
    "from AESImplementation import expand_key\n",
    "expand_key('140b41b22a29beb4061bda66b6747e14')"
   ]
  },
  {
   "cell_type": "code",
   "execution_count": 3,
   "metadata": {},
   "outputs": [
    {
     "data": {
      "text/plain": [
       "b'\\xfd\\xacB\\t\\xf0o\\xb9\\xf4\\xec<\\x11\\xc4\\xac1\\x06\\x8d'"
      ]
     },
     "execution_count": 3,
     "metadata": {},
     "output_type": "execute_result"
    }
   ],
   "source": [
    "from AESImplementation import encrypt_block\n",
    "encrypt_block('abcdefghabcdefgh', '140b41b22a29beb4061bda66b6747e14')"
   ]
  },
  {
   "cell_type": "code",
   "execution_count": 4,
   "metadata": {},
   "outputs": [
    {
     "data": {
      "text/plain": [
       "b'abcdefghabcdefgh'"
      ]
     },
     "execution_count": 4,
     "metadata": {},
     "output_type": "execute_result"
    }
   ],
   "source": [
    "from AESImplementation import decrypt_block\n",
    "decrypt_block(b'\\xfd\\xacB\\t\\xf0o\\xb9\\xf4\\xec<\\x11\\xc4\\xac1\\x06\\x8d', '140b41b22a29beb4061bda66b6747e14')"
   ]
  },
  {
   "cell_type": "code",
   "execution_count": 5,
   "metadata": {},
   "outputs": [
    {
     "data": {
      "text/plain": [
       "'a3c7c5f0f099f24aa9a8ae8fabfa7fca0f88c16649e499acb6f4662d988be5838ed8eaf798950f2f5280e9ff201f669a'"
      ]
     },
     "execution_count": 5,
     "metadata": {},
     "output_type": "execute_result"
    }
   ],
   "source": [
    "from AESImplementation import AES_encrypt\n",
    "AES_encrypt('I am a yellow dog. I am very yellow.', '140b41b22a29beb4061bda66b6747e14', to_str=True)"
   ]
  },
  {
   "cell_type": "code",
   "execution_count": 6,
   "metadata": {},
   "outputs": [
    {
     "data": {
      "text/plain": [
       "'I am a yellow dog. I am very yellow.\\x00\\x00\\x00\\x00\\x00\\x00\\x00\\x00\\x00\\x00\\x00\\x00'"
      ]
     },
     "execution_count": 6,
     "metadata": {},
     "output_type": "execute_result"
    }
   ],
   "source": [
    "from AESImplementation import AES_decrypt\n",
    "AES_decrypt('a3c7c5f0f099f24aa9a8ae8fabfa7fca0f88c16649e499acb6f4662d988be5838ed8eaf798950f2f5280e9ff201f669a', '140b41b22a29beb4061bda66b6747e14')"
   ]
  },
  {
   "cell_type": "code",
   "execution_count": 7,
   "metadata": {},
   "outputs": [
    {
     "data": {
      "text/plain": [
       "'4ca00ff4c898d61e1edbf1800618fb28ae262278b08ea77ef442df0d91cf45f3dd988d1d967cc70b64394178d8856a565579ba012750c2c4c691e6d4b40ce5bf'"
      ]
     },
     "execution_count": 7,
     "metadata": {},
     "output_type": "execute_result"
    }
   ],
   "source": [
    "from AESImplementation import AES_CBC\n",
    "AES_CBC().encrypt('I am a yellow dog. I am very yellow.', '4ca00ff4c898d61e1edbf1800618fb28', '140b41b22a29beb4061bda66b6747e14')"
   ]
  },
  {
   "cell_type": "code",
   "execution_count": 8,
   "metadata": {},
   "outputs": [
    {
     "data": {
      "text/plain": [
       "'I am a yellow dog. I am very yellow.'"
      ]
     },
     "execution_count": 8,
     "metadata": {},
     "output_type": "execute_result"
    }
   ],
   "source": [
    "AES_CBC().decrypt('4ca00ff4c898d61e1edbf1800618fb28ae262278b08ea77ef442df0d91cf45f3dd988d1d967cc70b64394178d8856a565579ba012750c2c4c691e6d4b40ce5bf', '140b41b22a29beb4061bda66b6747e14')"
   ]
  },
  {
   "cell_type": "code",
   "execution_count": 9,
   "metadata": {},
   "outputs": [
    {
     "data": {
      "text/plain": [
       "'e6c04f4b483640a69c69abf514a8d230850ad03297265d482e3ae27c12a0afc0882cb689361646ebec90d3a9b94f1f21'"
      ]
     },
     "execution_count": 9,
     "metadata": {},
     "output_type": "execute_result"
    }
   ],
   "source": [
    "from AESImplementation import AES_CTR\n",
    "AES_CTR().encrypt('I am a yellow dog. I am very yellow.', '140b41b22a29b39a', '4ca00ff4c898d61e1edbf1800618fb28')"
   ]
  },
  {
   "cell_type": "code",
   "execution_count": 10,
   "metadata": {},
   "outputs": [
    {
     "data": {
      "text/plain": [
       "'I am a yellow dog. I am very yellow.'"
      ]
     },
     "execution_count": 10,
     "metadata": {},
     "output_type": "execute_result"
    }
   ],
   "source": [
    "AES_CTR().decrypt('e6c04f4b483640a69c69abf514a8d230850ad03297265d482e3ae27c12a0afc0882cb689361646ebec90d3a9b94f1f21', '140b41b22a29b39a', '4ca00ff4c898d61e1edbf1800618fb28')"
   ]
  },
  {
   "cell_type": "code",
   "execution_count": null,
   "metadata": {},
   "outputs": [],
   "source": []
  }
 ],
 "metadata": {
  "kernelspec": {
   "display_name": "Python 3",
   "language": "python",
   "name": "python3"
  },
  "language_info": {
   "codemirror_mode": {
    "name": "ipython",
    "version": 3
   },
   "file_extension": ".py",
   "mimetype": "text/x-python",
   "name": "python",
   "nbconvert_exporter": "python",
   "pygments_lexer": "ipython3",
   "version": "3.8.2"
  }
 },
 "nbformat": 4,
 "nbformat_minor": 4
}
