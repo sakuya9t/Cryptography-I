{
 "cells": [
  {
   "cell_type": "code",
   "execution_count": 1,
   "metadata": {},
   "outputs": [],
   "source": [
    "# Rijndael S box https://en.wikipedia.org/wiki/Rijndael_S-box\n",
    "\n",
    "sbox = [\n",
    "        0x63, 0x7c, 0x77, 0x7b, 0xf2, 0x6b, 0x6f, 0xc5, 0x30, 0x01, 0x67, 0x2b, 0xfe, 0xd7, 0xab, 0x76,\n",
    "        0xca, 0x82, 0xc9, 0x7d, 0xfa, 0x59, 0x47, 0xf0, 0xad, 0xd4, 0xa2, 0xaf, 0x9c, 0xa4, 0x72, 0xc0,\n",
    "        0xb7, 0xfd, 0x93, 0x26, 0x36, 0x3f, 0xf7, 0xcc, 0x34, 0xa5, 0xe5, 0xf1, 0x71, 0xd8, 0x31, 0x15,\n",
    "        0x04, 0xc7, 0x23, 0xc3, 0x18, 0x96, 0x05, 0x9a, 0x07, 0x12, 0x80, 0xe2, 0xeb, 0x27, 0xb2, 0x75,\n",
    "        0x09, 0x83, 0x2c, 0x1a, 0x1b, 0x6e, 0x5a, 0xa0, 0x52, 0x3b, 0xd6, 0xb3, 0x29, 0xe3, 0x2f, 0x84,\n",
    "        0x53, 0xd1, 0x00, 0xed, 0x20, 0xfc, 0xb1, 0x5b, 0x6a, 0xcb, 0xbe, 0x39, 0x4a, 0x4c, 0x58, 0xcf,\n",
    "        0xd0, 0xef, 0xaa, 0xfb, 0x43, 0x4d, 0x33, 0x85, 0x45, 0xf9, 0x02, 0x7f, 0x50, 0x3c, 0x9f, 0xa8,\n",
    "        0x51, 0xa3, 0x40, 0x8f, 0x92, 0x9d, 0x38, 0xf5, 0xbc, 0xb6, 0xda, 0x21, 0x10, 0xff, 0xf3, 0xd2,\n",
    "        0xcd, 0x0c, 0x13, 0xec, 0x5f, 0x97, 0x44, 0x17, 0xc4, 0xa7, 0x7e, 0x3d, 0x64, 0x5d, 0x19, 0x73,\n",
    "        0x60, 0x81, 0x4f, 0xdc, 0x22, 0x2a, 0x90, 0x88, 0x46, 0xee, 0xb8, 0x14, 0xde, 0x5e, 0x0b, 0xdb,\n",
    "        0xe0, 0x32, 0x3a, 0x0a, 0x49, 0x06, 0x24, 0x5c, 0xc2, 0xd3, 0xac, 0x62, 0x91, 0x95, 0xe4, 0x79,\n",
    "        0xe7, 0xc8, 0x37, 0x6d, 0x8d, 0xd5, 0x4e, 0xa9, 0x6c, 0x56, 0xf4, 0xea, 0x65, 0x7a, 0xae, 0x08,\n",
    "        0xba, 0x78, 0x25, 0x2e, 0x1c, 0xa6, 0xb4, 0xc6, 0xe8, 0xdd, 0x74, 0x1f, 0x4b, 0xbd, 0x8b, 0x8a,\n",
    "        0x70, 0x3e, 0xb5, 0x66, 0x48, 0x03, 0xf6, 0x0e, 0x61, 0x35, 0x57, 0xb9, 0x86, 0xc1, 0x1d, 0x9e,\n",
    "        0xe1, 0xf8, 0x98, 0x11, 0x69, 0xd9, 0x8e, 0x94, 0x9b, 0x1e, 0x87, 0xe9, 0xce, 0x55, 0x28, 0xdf,\n",
    "        0x8c, 0xa1, 0x89, 0x0d, 0xbf, 0xe6, 0x42, 0x68, 0x41, 0x99, 0x2d, 0x0f, 0xb0, 0x54, 0xbb, 0x16\n",
    "        ]\n",
    "\n",
    "sboxInv = [\n",
    "        0x52, 0x09, 0x6a, 0xd5, 0x30, 0x36, 0xa5, 0x38, 0xbf, 0x40, 0xa3, 0x9e, 0x81, 0xf3, 0xd7, 0xfb,\n",
    "        0x7c, 0xe3, 0x39, 0x82, 0x9b, 0x2f, 0xff, 0x87, 0x34, 0x8e, 0x43, 0x44, 0xc4, 0xde, 0xe9, 0xcb,\n",
    "        0x54, 0x7b, 0x94, 0x32, 0xa6, 0xc2, 0x23, 0x3d, 0xee, 0x4c, 0x95, 0x0b, 0x42, 0xfa, 0xc3, 0x4e,\n",
    "        0x08, 0x2e, 0xa1, 0x66, 0x28, 0xd9, 0x24, 0xb2, 0x76, 0x5b, 0xa2, 0x49, 0x6d, 0x8b, 0xd1, 0x25,\n",
    "        0x72, 0xf8, 0xf6, 0x64, 0x86, 0x68, 0x98, 0x16, 0xd4, 0xa4, 0x5c, 0xcc, 0x5d, 0x65, 0xb6, 0x92,\n",
    "        0x6c, 0x70, 0x48, 0x50, 0xfd, 0xed, 0xb9, 0xda, 0x5e, 0x15, 0x46, 0x57, 0xa7, 0x8d, 0x9d, 0x84,\n",
    "        0x90, 0xd8, 0xab, 0x00, 0x8c, 0xbc, 0xd3, 0x0a, 0xf7, 0xe4, 0x58, 0x05, 0xb8, 0xb3, 0x45, 0x06,\n",
    "        0xd0, 0x2c, 0x1e, 0x8f, 0xca, 0x3f, 0x0f, 0x02, 0xc1, 0xaf, 0xbd, 0x03, 0x01, 0x13, 0x8a, 0x6b,\n",
    "        0x3a, 0x91, 0x11, 0x41, 0x4f, 0x67, 0xdc, 0xea, 0x97, 0xf2, 0xcf, 0xce, 0xf0, 0xb4, 0xe6, 0x73,\n",
    "        0x96, 0xac, 0x74, 0x22, 0xe7, 0xad, 0x35, 0x85, 0xe2, 0xf9, 0x37, 0xe8, 0x1c, 0x75, 0xdf, 0x6e,\n",
    "        0x47, 0xf1, 0x1a, 0x71, 0x1d, 0x29, 0xc5, 0x89, 0x6f, 0xb7, 0x62, 0x0e, 0xaa, 0x18, 0xbe, 0x1b,\n",
    "        0xfc, 0x56, 0x3e, 0x4b, 0xc6, 0xd2, 0x79, 0x20, 0x9a, 0xdb, 0xc0, 0xfe, 0x78, 0xcd, 0x5a, 0xf4,\n",
    "        0x1f, 0xdd, 0xa8, 0x33, 0x88, 0x07, 0xc7, 0x31, 0xb1, 0x12, 0x10, 0x59, 0x27, 0x80, 0xec, 0x5f,\n",
    "        0x60, 0x51, 0x7f, 0xa9, 0x19, 0xb5, 0x4a, 0x0d, 0x2d, 0xe5, 0x7a, 0x9f, 0x93, 0xc9, 0x9c, 0xef,\n",
    "        0xa0, 0xe0, 0x3b, 0x4d, 0xae, 0x2a, 0xf5, 0xb0, 0xc8, 0xeb, 0xbb, 0x3c, 0x83, 0x53, 0x99, 0x61,\n",
    "        0x17, 0x2b, 0x04, 0x7e, 0xba, 0x77, 0xd6, 0x26, 0xe1, 0x69, 0x14, 0x63, 0x55, 0x21, 0x0c, 0x7d\n",
    "        ]\n",
    "\n",
    "def sub_bytes(block):\n",
    "    for i in range(len(block)):\n",
    "        block[i] = sbox[block[i]]\n",
    "    return block\n",
    "\n",
    "def sub_bytes_inv(block):\n",
    "    for i in range(len(block)):\n",
    "        block[i] = sboxInv[block[i]]\n",
    "    return block"
   ]
  },
  {
   "cell_type": "code",
   "execution_count": 2,
   "metadata": {},
   "outputs": [],
   "source": [
    "def rotate(word, n):\n",
    "    return word[n:]+word[0:n]\n",
    "\n",
    "def row_shift(block):\n",
    "    for i in range(4):\n",
    "        block[i*4:i*4+4] = rotate(block[i*4:i*4+4],i)\n",
    "    return block\n",
    "    \n",
    "def row_shift_inv(block):\n",
    "    for i in range(4):\n",
    "        block[i*4:i*4+4] = rotate(block[i*4:i*4+4],-i)\n",
    "    return block"
   ]
  },
  {
   "cell_type": "code",
   "execution_count": 65,
   "metadata": {},
   "outputs": [],
   "source": [
    "# Rijndael mixcolumns https://en.wikipedia.org/wiki/Rijndael_MixColumns\n",
    "\n",
    "mcol = [[2,3,1,1],[1,2,3,1],[1,1,2,3],[3,1,1,2]]\n",
    "mcolInv = [[14,11,13,9],[9,14,11,13],[13,9,14,11],[11,13,9,14]]\n",
    "\n",
    "def __gmul__(a, b):\n",
    "    # Galois Field (256) Multiplication of two Bytes\n",
    "    p = 0\n",
    "    for counter in range(8):\n",
    "        if (b & 1) != 0:\n",
    "            p = p ^ a\n",
    "        hi_bit_set = (a & 0x80) != 0\n",
    "        a <<= 1\n",
    "        if hi_bit_set:\n",
    "            a ^= 0x1b # x^8 + x^4 + x^3 + x + 1 \n",
    "        b >>= 1\n",
    "    return p % 256\n",
    "\n",
    "def mix_column(column):\n",
    "    # 's' is the main State matrix, 'ss' is a temp matrix of the same dimensions as 's'.\n",
    "    res = [0,0,0,0]\n",
    "    for i in range(4):\n",
    "        for j in range(4):\n",
    "            res[i] ^= __gmul__(mcol[i][j], column[j])\n",
    "    return res\n",
    "\n",
    "def mix_column_inv(column):\n",
    "    res = [0,0,0,0]\n",
    "    for i in range(4):\n",
    "        for j in range(4):\n",
    "            res[i] ^= __gmul__(mcolInv[i][j], column[j])\n",
    "    return res"
   ]
  },
  {
   "cell_type": "code",
   "execution_count": 104,
   "metadata": {},
   "outputs": [],
   "source": [
    "from more_itertools import flatten\n",
    "\n",
    "# Rcon(0) is 0x8d because 0x8d multiplied by 0x02 is 0x01 in the finite field. \n",
    "rc = [0x8d, 0x01, 0x02, 0x04, 0x08, 0x10, 0x20, 0x40, 0x80, 0x1b, 0x36]\n",
    "\n",
    "def expand_key(key):\n",
    "    def rot_word(word):\n",
    "        return [word[1], word[2], word[3], word[0]]\n",
    "    \n",
    "    if isinstance(key, str):\n",
    "        key = bytes.fromhex(key)\n",
    "    w = [[key[4*i+j] for j in range(4)] for i in range(4)]\n",
    "    for i in range(4, 44):\n",
    "        temp = w[i-1]\n",
    "        if i % 4 == 0:\n",
    "            temp = [(sbox[x] ^ rc[i//4]) for x in rot_word(temp)]\n",
    "        w.append([(w[i-4][j] ^ temp[j]) for j in range(4)])\n",
    "    return [list(flatten([w[4*i+j] for j in range(4)])) for i in range(11)]"
   ]
  },
  {
   "cell_type": "code",
   "execution_count": 106,
   "metadata": {},
   "outputs": [
    {
     "data": {
      "text/plain": [
       "[[20, 11, 65, 178, 42, 41, 190, 180, 6, 27, 218, 102, 182, 116, 126, 20],\n",
       " [135, 249, 186, 253, 173, 208, 4, 73, 171, 203, 222, 47, 29, 191, 160, 59],\n",
       " [141, 27, 90, 91, 32, 203, 94, 18, 139, 0, 128, 61, 150, 191, 32, 6],\n",
       " [129, 168, 49, 207, 161, 99, 111, 221, 42, 99, 239, 224, 188, 220, 207, 230],\n",
       " [15, 42, 183, 162, 174, 73, 216, 127, 132, 42, 55, 159, 56, 246, 248, 121],\n",
       " [93, 123, 17, 181, 243, 50, 201, 202, 119, 24, 254, 85, 79, 238, 6, 44],\n",
       " [85, 52, 64, 17, 166, 6, 137, 219, 209, 30, 119, 142, 158, 240, 113, 162],\n",
       " [153, 215, 58, 90, 63, 209, 179, 129, 238, 207, 196, 15, 112, 63, 181, 173],\n",
       " [108, 130, 47, 139, 83, 83, 156, 10, 189, 156, 88, 5, 205, 163, 237, 168],\n",
       " [125, 204, 246, 45, 46, 159, 106, 39, 147, 3, 50, 34, 94, 160, 223, 138],\n",
       " [171, 100, 190, 67, 133, 251, 212, 100, 22, 248, 230, 70, 72, 88, 57, 204]]"
      ]
     },
     "execution_count": 106,
     "metadata": {},
     "output_type": "execute_result"
    }
   ],
   "source": [
    "expand_key(key)"
   ]
  },
  {
   "cell_type": "code",
   "execution_count": 84,
   "metadata": {},
   "outputs": [],
   "source": [
    "def matrix_to_columns(matrix):\n",
    "    return [[matrix[i*4+j] for i in range(4)] for j in range(4)]\n",
    "\n",
    "def columns_to_matrix(columns):\n",
    "    return [columns[i][j] for j in range(4) for i in range(4)]"
   ]
  },
  {
   "cell_type": "code",
   "execution_count": 96,
   "metadata": {},
   "outputs": [],
   "source": [
    "def to_byte_array(s):\n",
    "    b = bytearray()\n",
    "    b.extend(map(ord, s))\n",
    "    return b"
   ]
  },
  {
   "cell_type": "code",
   "execution_count": 91,
   "metadata": {},
   "outputs": [
    {
     "name": "stdout",
     "output_type": "stream",
     "text": [
      "[[1, 5, 9, 13], [2, 6, 10, 14], [3, 7, 11, 15], [4, 8, 12, 16]]\n",
      "[1, 2, 3, 4, 5, 6, 7, 8, 9, 10, 11, 12, 13, 14, 15, 16]\n"
     ]
    }
   ],
   "source": [
    "print(matrix_to_columns([1,2,3,4,5,6,7,8,9,10,11,12,13,14,15,16]))\n",
    "print(columns_to_matrix([[1, 5, 9, 13], [2, 6, 10, 14], [3, 7, 11, 15], [4, 8, 12, 16]]))"
   ]
  },
  {
   "cell_type": "code",
   "execution_count": 98,
   "metadata": {},
   "outputs": [],
   "source": [
    "def AES_round(block):\n",
    "    if len(block) != 16:\n",
    "        raise Exception('block size must be 128 bits / 16 bytes')\n",
    "    if any([block[x] >= 256 for x in range(len(block))]):\n",
    "        raise Exception('Each element must be 1 byte / 8 bits long')\n",
    "    block = [sbox[x] for x in block]\n",
    "    block = row_shift(block)\n",
    "    columns = matrix_to_columns(block)\n",
    "    columns = [mix_column(c) for c in columns]\n",
    "    block = columns_to_matrix(columns)\n",
    "    return block"
   ]
  },
  {
   "cell_type": "code",
   "execution_count": 100,
   "metadata": {},
   "outputs": [],
   "source": [
    "def AES_final_round(block):\n",
    "    if len(block) != 16:\n",
    "        raise Exception('block size must be 128 bits / 16 bytes')\n",
    "    if any([block[x] >= 256 for x in range(len(block))]):\n",
    "        raise Exception('Each element must be 1 byte / 8 bits long')\n",
    "    block = [sbox[x] for x in block]\n",
    "    block = row_shift(block)\n",
    "    return block"
   ]
  },
  {
   "cell_type": "code",
   "execution_count": 7,
   "metadata": {},
   "outputs": [
    {
     "name": "stdout",
     "output_type": "stream",
     "text": [
      "b'\\x14\\x0bA\\xb2*)\\xbe\\xb4\\x06\\x1b\\xdaf\\xb6t~\\x14'\n"
     ]
    }
   ],
   "source": [
    "key = '140b41b22a29beb4061bda66b6747e14'\n",
    "byte_key = bytes.fromhex(key)\n",
    "print(byte_key)"
   ]
  },
  {
   "cell_type": "code",
   "execution_count": 123,
   "metadata": {},
   "outputs": [],
   "source": [
    "def encrypt_block(block, key):\n",
    "    if isinstance(block, str):\n",
    "        block = to_byte_array(block)\n",
    "    keys = expand_key(key)\n",
    "    for i in range(9):\n",
    "        block = [(block[j] ^ keys[i][j]) for j in range(len(block))]\n",
    "        block = AES_round(block)\n",
    "    block = [(block[j] ^ keys[9][j]) for j in range(len(block))]\n",
    "    block = AES_final_round(block)\n",
    "    block = [(block[j] ^ keys[10][j]) for j in range(len(block))]\n",
    "    return bytes(block).hex()"
   ]
  },
  {
   "cell_type": "code",
   "execution_count": 124,
   "metadata": {},
   "outputs": [
    {
     "data": {
      "text/plain": [
       "'fdac4209f06fb9f4ec3c11c4ac31068d'"
      ]
     },
     "execution_count": 124,
     "metadata": {},
     "output_type": "execute_result"
    }
   ],
   "source": [
    "encrypt_block('abcdefghabcdefgh', '140b41b22a29beb4061bda66b6747e14')"
   ]
  },
  {
   "cell_type": "code",
   "execution_count": 131,
   "metadata": {},
   "outputs": [],
   "source": [
    "def AES_encrypt(plain_text, key):\n",
    "    b = to_byte_array(plain_text)\n",
    "    while len(b) % 16 != 0:\n",
    "        b.append(0);\n",
    "    b = [[b[i*16+j] for j in range(16)] for i in range(len(b)//16)]\n",
    "    c = [encrypt_block(x, key) for x in b]\n",
    "    return ''.join(c)"
   ]
  },
  {
   "cell_type": "code",
   "execution_count": 132,
   "metadata": {},
   "outputs": [
    {
     "data": {
      "text/plain": [
       "'a3c7c5f0f099f24aa9a8ae8fabfa7fca0f88c16649e499acb6f4662d988be5838ed8eaf798950f2f5280e9ff201f669a'"
      ]
     },
     "execution_count": 132,
     "metadata": {},
     "output_type": "execute_result"
    }
   ],
   "source": [
    "AES_encrypt('I am a yellow dog. I am very yellow.', '140b41b22a29beb4061bda66b6747e14')"
   ]
  },
  {
   "cell_type": "code",
   "execution_count": null,
   "metadata": {},
   "outputs": [],
   "source": []
  }
 ],
 "metadata": {
  "kernelspec": {
   "display_name": "Python 3",
   "language": "python",
   "name": "python3"
  },
  "language_info": {
   "codemirror_mode": {
    "name": "ipython",
    "version": 3
   },
   "file_extension": ".py",
   "mimetype": "text/x-python",
   "name": "python",
   "nbconvert_exporter": "python",
   "pygments_lexer": "ipython3",
   "version": "3.8.2"
  }
 },
 "nbformat": 4,
 "nbformat_minor": 4
}
